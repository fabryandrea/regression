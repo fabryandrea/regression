{
 "cells": [
  {
   "cell_type": "markdown",
   "metadata": {},
   "source": [
    "# Predicting Label Costs with Regression"
   ]
  },
  {
   "cell_type": "code",
   "execution_count": 1,
   "metadata": {},
   "outputs": [],
   "source": [
    "# imports\n",
    "import pandas as pd\n",
    "import numpy as np\n",
    "import matplotlib.pyplot as plt"
   ]
  },
  {
   "cell_type": "markdown",
   "metadata": {},
   "source": [
    "## 1. Cleaning the Data: The Roadmap after Several Rounds of EDA (in separate notebooks)"
   ]
  },
  {
   "cell_type": "markdown",
   "metadata": {},
   "source": [
    "Drops:\n",
    "* MATERIAL_DESCRIPTION (string version of SKU contained in MATERIAL_NO)\n",
    "* ITEM_DESCRIPTION (code version of all data contained in other columns)\n",
    "* UOM (unit of measure) drop it for now, we can return to them if the predictions are poor (**CHOICE**)\n",
    "* QTY_PER_UOM (quantity per unit of measure) same here (**CHOICE**)\n",
    "\n",
    "Wrong datatypes:\n",
    "* INVOICE_DATE: needs to be datetime and transformed into features\n",
    "* DOW: new feature created from invoice dates, needs to be dummified\n",
    "* ITEM: needs to be int, then dummified as categorical data (**CHOICE**)\n",
    "* MATERIAL_NO: needs to be int, drop NC (not configured) and purchased, then dummified as categorical data\n",
    "* SHAPE: needs to be lowercased, then dummified\n",
    "\n",
    "Transformations:\n",
    "* need to convert (WIDTH + WIDTH_UNIT) (LENGTH + LENGTH_UNIT) & (VERTICAL_GAP) into some common number in mm\n",
    "* turn Nans into 0 in WIDTH, LENGTH, DIAMETER\n",
    "\n",
    "Outliers (measurements):\n",
    "* WIDTH, LENGTH, VERTICAL_GAP: no negative values, zero is dependent on shape. \n",
    "* unusually high values were left in the dataset and may be pulling the regression line up (**CHOICE**)\n",
    "* DIAMETER: needs to be under 10 mm, drop the 6 outliers in the 20 - 92 mm range\n",
    "\n",
    "Outliers (items related to sales):\n",
    "* UNITS_SOLD: drop 4,851 minus amounts\n",
    "* UNIT_PRICE: drop 4 minus prices, 16,434 zero prices\n",
    "* UNIT_COST: 115 zero costs\n",
    "* unusually high values were left in the dataset and may be pulling the regression line up (**CHOICE**)\n",
    "\n",
    "Outliers (misc. items):\n",
    "* NO_ACROSS: What is NO_ACROSS? In NO_ACROSS, most values are 1.0, vast majority are under 6.0, but there are 14 outliers between 8.0 and 11.0. Are those normal data points or should they be dropped?\n",
    "\n",
    "Missing values:\n",
    "* ITEM (470), SHAPE (440), NO_ACROSS (440): dropped them\n",
    "* VERT_GAP_NEW (5559): since vertical gap is only associated with certain shapes, I filled missing items with zero"
   ]
  },
  {
   "cell_type": "code",
   "execution_count": 2,
   "metadata": {},
   "outputs": [
    {
     "data": {
      "text/html": [
       "<div>\n",
       "<style scoped>\n",
       "    .dataframe tbody tr th:only-of-type {\n",
       "        vertical-align: middle;\n",
       "    }\n",
       "\n",
       "    .dataframe tbody tr th {\n",
       "        vertical-align: top;\n",
       "    }\n",
       "\n",
       "    .dataframe thead th {\n",
       "        text-align: right;\n",
       "    }\n",
       "</style>\n",
       "<table border=\"1\" class=\"dataframe\">\n",
       "  <thead>\n",
       "    <tr style=\"text-align: right;\">\n",
       "      <th></th>\n",
       "      <th>INVOICE_DATE</th>\n",
       "      <th>ITEM</th>\n",
       "      <th>ITEM_DESCRIPTION</th>\n",
       "      <th>UNITS_SOLD</th>\n",
       "      <th>UNIT_PRICE</th>\n",
       "      <th>UNIT_COST</th>\n",
       "      <th>MATERIAL_NO</th>\n",
       "      <th>MATERIAL_DESCRIPTION</th>\n",
       "      <th>LENGTH</th>\n",
       "      <th>LENGTH_UNITS</th>\n",
       "      <th>WIDTH</th>\n",
       "      <th>WIDTH_UNITS</th>\n",
       "      <th>SHAPE</th>\n",
       "      <th>DIAMETER</th>\n",
       "      <th>VERTICAL_GAP</th>\n",
       "      <th>NO_ACROSS</th>\n",
       "      <th>UOM</th>\n",
       "      <th>QTY_PER_UOM</th>\n",
       "    </tr>\n",
       "  </thead>\n",
       "  <tbody>\n",
       "    <tr>\n",
       "      <th>0</th>\n",
       "      <td>10/07/2015</td>\n",
       "      <td>16001011</td>\n",
       "      <td>L 3.875X3 167 .75K6</td>\n",
       "      <td>6</td>\n",
       "      <td>38.85</td>\n",
       "      <td>15.0455</td>\n",
       "      <td>0167</td>\n",
       "      <td>DYE INKJET GLOSS WHITE PAPER with PERMANENT ad...</td>\n",
       "      <td>3.0</td>\n",
       "      <td>\"</td>\n",
       "      <td>3.875</td>\n",
       "      <td>\"</td>\n",
       "      <td>Rectangle</td>\n",
       "      <td>NaN</td>\n",
       "      <td>.125\"</td>\n",
       "      <td>1.0</td>\n",
       "      <td>RL</td>\n",
       "      <td>750</td>\n",
       "    </tr>\n",
       "    <tr>\n",
       "      <th>1</th>\n",
       "      <td>10/07/2015</td>\n",
       "      <td>16001011</td>\n",
       "      <td>L 3.875X3 167 .75K6</td>\n",
       "      <td>6</td>\n",
       "      <td>38.85</td>\n",
       "      <td>15.0455</td>\n",
       "      <td>0167</td>\n",
       "      <td>DYE INKJET GLOSS WHITE PAPER with PERMANENT ad...</td>\n",
       "      <td>3.0</td>\n",
       "      <td>\"</td>\n",
       "      <td>3.875</td>\n",
       "      <td>\"</td>\n",
       "      <td>Rectangle</td>\n",
       "      <td>NaN</td>\n",
       "      <td>.125\"</td>\n",
       "      <td>1.0</td>\n",
       "      <td>RL</td>\n",
       "      <td>750</td>\n",
       "    </tr>\n",
       "    <tr>\n",
       "      <th>2</th>\n",
       "      <td>01/18/2016</td>\n",
       "      <td>16001011</td>\n",
       "      <td>L 3.875X3 167 .75K6</td>\n",
       "      <td>6</td>\n",
       "      <td>38.85</td>\n",
       "      <td>15.0455</td>\n",
       "      <td>0167</td>\n",
       "      <td>DYE INKJET GLOSS WHITE PAPER with PERMANENT ad...</td>\n",
       "      <td>3.0</td>\n",
       "      <td>\"</td>\n",
       "      <td>3.875</td>\n",
       "      <td>\"</td>\n",
       "      <td>Rectangle</td>\n",
       "      <td>NaN</td>\n",
       "      <td>.125\"</td>\n",
       "      <td>1.0</td>\n",
       "      <td>RL</td>\n",
       "      <td>750</td>\n",
       "    </tr>\n",
       "    <tr>\n",
       "      <th>3</th>\n",
       "      <td>01/18/2016</td>\n",
       "      <td>16001011</td>\n",
       "      <td>L 3.875X3 167 .75K6</td>\n",
       "      <td>6</td>\n",
       "      <td>38.85</td>\n",
       "      <td>15.0455</td>\n",
       "      <td>0167</td>\n",
       "      <td>DYE INKJET GLOSS WHITE PAPER with PERMANENT ad...</td>\n",
       "      <td>3.0</td>\n",
       "      <td>\"</td>\n",
       "      <td>3.875</td>\n",
       "      <td>\"</td>\n",
       "      <td>Rectangle</td>\n",
       "      <td>NaN</td>\n",
       "      <td>.125\"</td>\n",
       "      <td>1.0</td>\n",
       "      <td>RL</td>\n",
       "      <td>750</td>\n",
       "    </tr>\n",
       "    <tr>\n",
       "      <th>4</th>\n",
       "      <td>04/29/2016</td>\n",
       "      <td>16001011</td>\n",
       "      <td>L 3.875X3 167 .75K6</td>\n",
       "      <td>14</td>\n",
       "      <td>38.85</td>\n",
       "      <td>14.5266</td>\n",
       "      <td>0167</td>\n",
       "      <td>DYE INKJET GLOSS WHITE PAPER with PERMANENT ad...</td>\n",
       "      <td>3.0</td>\n",
       "      <td>\"</td>\n",
       "      <td>3.875</td>\n",
       "      <td>\"</td>\n",
       "      <td>Rectangle</td>\n",
       "      <td>NaN</td>\n",
       "      <td>.125\"</td>\n",
       "      <td>1.0</td>\n",
       "      <td>RL</td>\n",
       "      <td>750</td>\n",
       "    </tr>\n",
       "  </tbody>\n",
       "</table>\n",
       "</div>"
      ],
      "text/plain": [
       "  INVOICE_DATE      ITEM     ITEM_DESCRIPTION  UNITS_SOLD  UNIT_PRICE  \\\n",
       "0   10/07/2015  16001011  L 3.875X3 167 .75K6           6       38.85   \n",
       "1   10/07/2015  16001011  L 3.875X3 167 .75K6           6       38.85   \n",
       "2   01/18/2016  16001011  L 3.875X3 167 .75K6           6       38.85   \n",
       "3   01/18/2016  16001011  L 3.875X3 167 .75K6           6       38.85   \n",
       "4   04/29/2016  16001011  L 3.875X3 167 .75K6          14       38.85   \n",
       "\n",
       "   UNIT_COST MATERIAL_NO                               MATERIAL_DESCRIPTION  \\\n",
       "0    15.0455        0167  DYE INKJET GLOSS WHITE PAPER with PERMANENT ad...   \n",
       "1    15.0455        0167  DYE INKJET GLOSS WHITE PAPER with PERMANENT ad...   \n",
       "2    15.0455        0167  DYE INKJET GLOSS WHITE PAPER with PERMANENT ad...   \n",
       "3    15.0455        0167  DYE INKJET GLOSS WHITE PAPER with PERMANENT ad...   \n",
       "4    14.5266        0167  DYE INKJET GLOSS WHITE PAPER with PERMANENT ad...   \n",
       "\n",
       "   LENGTH LENGTH_UNITS  WIDTH WIDTH_UNITS      SHAPE  DIAMETER VERTICAL_GAP  \\\n",
       "0     3.0            \"  3.875           \"  Rectangle       NaN        .125\"   \n",
       "1     3.0            \"  3.875           \"  Rectangle       NaN        .125\"   \n",
       "2     3.0            \"  3.875           \"  Rectangle       NaN        .125\"   \n",
       "3     3.0            \"  3.875           \"  Rectangle       NaN        .125\"   \n",
       "4     3.0            \"  3.875           \"  Rectangle       NaN        .125\"   \n",
       "\n",
       "   NO_ACROSS UOM  QTY_PER_UOM  \n",
       "0        1.0  RL          750  \n",
       "1        1.0  RL          750  \n",
       "2        1.0  RL          750  \n",
       "3        1.0  RL          750  \n",
       "4        1.0  RL          750  "
      ]
     },
     "execution_count": 2,
     "metadata": {},
     "output_type": "execute_result"
    }
   ],
   "source": [
    "# when reading in, set dtype for wrong data types except for datetime\n",
    "my_dict = {'ITEM': np.int64, 'MATERIAL_NO': np.int64}\n",
    "sample = pd.read_excel('data/labels-regression-data.xlsx', dtypes=my_dict)\n",
    "sample.head()"
   ]
  },
  {
   "cell_type": "code",
   "execution_count": 3,
   "metadata": {},
   "outputs": [
    {
     "name": "stdout",
     "output_type": "stream",
     "text": [
      "<class 'pandas.core.frame.DataFrame'>\n",
      "RangeIndex: 222904 entries, 0 to 222903\n",
      "Data columns (total 18 columns):\n",
      "INVOICE_DATE            222904 non-null object\n",
      "ITEM                    222904 non-null object\n",
      "ITEM_DESCRIPTION        222904 non-null object\n",
      "UNITS_SOLD              222904 non-null int64\n",
      "UNIT_PRICE              222904 non-null float64\n",
      "UNIT_COST               222904 non-null float64\n",
      "MATERIAL_NO             222862 non-null object\n",
      "MATERIAL_DESCRIPTION    222859 non-null object\n",
      "LENGTH                  211377 non-null float64\n",
      "LENGTH_UNITS            211193 non-null object\n",
      "WIDTH                   211839 non-null float64\n",
      "WIDTH_UNITS             211837 non-null object\n",
      "SHAPE                   222400 non-null object\n",
      "DIAMETER                11023 non-null float64\n",
      "VERTICAL_GAP            220670 non-null object\n",
      "NO_ACROSS               222400 non-null float64\n",
      "UOM                     222870 non-null object\n",
      "QTY_PER_UOM             222904 non-null int64\n",
      "dtypes: float64(6), int64(2), object(10)\n",
      "memory usage: 30.6+ MB\n"
     ]
    }
   ],
   "source": [
    "# inspect dataframe\n",
    "sample.info()"
   ]
  },
  {
   "cell_type": "markdown",
   "metadata": {},
   "source": [
    "### Drops"
   ]
  },
  {
   "cell_type": "code",
   "execution_count": 4,
   "metadata": {},
   "outputs": [
    {
     "name": "stdout",
     "output_type": "stream",
     "text": [
      "<class 'pandas.core.frame.DataFrame'>\n",
      "RangeIndex: 222904 entries, 0 to 222903\n",
      "Data columns (total 16 columns):\n",
      "INVOICE_DATE    222904 non-null object\n",
      "ITEM            222904 non-null object\n",
      "UNITS_SOLD      222904 non-null int64\n",
      "UNIT_PRICE      222904 non-null float64\n",
      "UNIT_COST       222904 non-null float64\n",
      "MATERIAL_NO     222862 non-null object\n",
      "LENGTH          211377 non-null float64\n",
      "LENGTH_UNITS    211193 non-null object\n",
      "WIDTH           211839 non-null float64\n",
      "WIDTH_UNITS     211837 non-null object\n",
      "SHAPE           222400 non-null object\n",
      "DIAMETER        11023 non-null float64\n",
      "VERTICAL_GAP    220670 non-null object\n",
      "NO_ACROSS       222400 non-null float64\n",
      "UOM             222870 non-null object\n",
      "QTY_PER_UOM     222904 non-null int64\n",
      "dtypes: float64(6), int64(2), object(8)\n",
      "memory usage: 27.2+ MB\n"
     ]
    }
   ],
   "source": [
    "# drop ITEM_DESCRIPTION, MATERIAL_DESCRIPTION\n",
    "sample.drop(labels=['ITEM_DESCRIPTION', 'MATERIAL_DESCRIPTION'], axis=1, inplace=True)\n",
    "sample.info()"
   ]
  },
  {
   "cell_type": "code",
   "execution_count": 5,
   "metadata": {},
   "outputs": [
    {
     "name": "stdout",
     "output_type": "stream",
     "text": [
      "<class 'pandas.core.frame.DataFrame'>\n",
      "RangeIndex: 222904 entries, 0 to 222903\n",
      "Data columns (total 14 columns):\n",
      "INVOICE_DATE    222904 non-null object\n",
      "ITEM            222904 non-null object\n",
      "UNITS_SOLD      222904 non-null int64\n",
      "UNIT_PRICE      222904 non-null float64\n",
      "UNIT_COST       222904 non-null float64\n",
      "MATERIAL_NO     222862 non-null object\n",
      "LENGTH          211377 non-null float64\n",
      "LENGTH_UNITS    211193 non-null object\n",
      "WIDTH           211839 non-null float64\n",
      "WIDTH_UNITS     211837 non-null object\n",
      "SHAPE           222400 non-null object\n",
      "DIAMETER        11023 non-null float64\n",
      "VERTICAL_GAP    220670 non-null object\n",
      "NO_ACROSS       222400 non-null float64\n",
      "dtypes: float64(6), int64(1), object(7)\n",
      "memory usage: 23.8+ MB\n"
     ]
    }
   ],
   "source": [
    "# CHOICE: for now, drop UOM, QTY_PER_UOM\n",
    "sample.drop(labels=['UOM', 'QTY_PER_UOM'], axis=1, inplace=True)\n",
    "sample.info()"
   ]
  },
  {
   "cell_type": "markdown",
   "metadata": {},
   "source": [
    "### Wrong Datatypes"
   ]
  },
  {
   "cell_type": "markdown",
   "metadata": {},
   "source": [
    "INVOICE_DATE"
   ]
  },
  {
   "cell_type": "code",
   "execution_count": 6,
   "metadata": {},
   "outputs": [
    {
     "name": "stdout",
     "output_type": "stream",
     "text": [
      "<class 'pandas.core.frame.DataFrame'>\n",
      "RangeIndex: 222904 entries, 0 to 222903\n",
      "Data columns (total 14 columns):\n",
      "INVOICE_DATE    222904 non-null datetime64[ns]\n",
      "ITEM            222904 non-null object\n",
      "UNITS_SOLD      222904 non-null int64\n",
      "UNIT_PRICE      222904 non-null float64\n",
      "UNIT_COST       222904 non-null float64\n",
      "MATERIAL_NO     222862 non-null object\n",
      "LENGTH          211377 non-null float64\n",
      "LENGTH_UNITS    211193 non-null object\n",
      "WIDTH           211839 non-null float64\n",
      "WIDTH_UNITS     211837 non-null object\n",
      "SHAPE           222400 non-null object\n",
      "DIAMETER        11023 non-null float64\n",
      "VERTICAL_GAP    220670 non-null object\n",
      "NO_ACROSS       222400 non-null float64\n",
      "dtypes: datetime64[ns](1), float64(6), int64(1), object(6)\n",
      "memory usage: 23.8+ MB\n"
     ]
    }
   ],
   "source": [
    "# convert datetime\n",
    "sample.INVOICE_DATE = pd.to_datetime(sample.INVOICE_DATE, errors='coerce')\n",
    "sample.info()"
   ]
  },
  {
   "cell_type": "code",
   "execution_count": 7,
   "metadata": {},
   "outputs": [
    {
     "data": {
      "text/html": [
       "<div>\n",
       "<style scoped>\n",
       "    .dataframe tbody tr th:only-of-type {\n",
       "        vertical-align: middle;\n",
       "    }\n",
       "\n",
       "    .dataframe tbody tr th {\n",
       "        vertical-align: top;\n",
       "    }\n",
       "\n",
       "    .dataframe thead th {\n",
       "        text-align: right;\n",
       "    }\n",
       "</style>\n",
       "<table border=\"1\" class=\"dataframe\">\n",
       "  <thead>\n",
       "    <tr style=\"text-align: right;\">\n",
       "      <th></th>\n",
       "      <th>INVOICE_DATE</th>\n",
       "      <th>ITEM</th>\n",
       "      <th>UNITS_SOLD</th>\n",
       "      <th>UNIT_PRICE</th>\n",
       "      <th>UNIT_COST</th>\n",
       "      <th>MATERIAL_NO</th>\n",
       "      <th>LENGTH</th>\n",
       "      <th>LENGTH_UNITS</th>\n",
       "      <th>WIDTH</th>\n",
       "      <th>WIDTH_UNITS</th>\n",
       "      <th>SHAPE</th>\n",
       "      <th>DIAMETER</th>\n",
       "      <th>VERTICAL_GAP</th>\n",
       "      <th>NO_ACROSS</th>\n",
       "      <th>date</th>\n",
       "      <th>year</th>\n",
       "      <th>month</th>\n",
       "      <th>day</th>\n",
       "      <th>DOW</th>\n",
       "    </tr>\n",
       "  </thead>\n",
       "  <tbody>\n",
       "    <tr>\n",
       "      <th>0</th>\n",
       "      <td>2015-10-07</td>\n",
       "      <td>16001011</td>\n",
       "      <td>6</td>\n",
       "      <td>38.85</td>\n",
       "      <td>15.0455</td>\n",
       "      <td>0167</td>\n",
       "      <td>3.0</td>\n",
       "      <td>\"</td>\n",
       "      <td>3.875</td>\n",
       "      <td>\"</td>\n",
       "      <td>Rectangle</td>\n",
       "      <td>NaN</td>\n",
       "      <td>.125\"</td>\n",
       "      <td>1.0</td>\n",
       "      <td>2015-10-07</td>\n",
       "      <td>2015</td>\n",
       "      <td>10</td>\n",
       "      <td>7</td>\n",
       "      <td>Wednesday</td>\n",
       "    </tr>\n",
       "    <tr>\n",
       "      <th>1</th>\n",
       "      <td>2015-10-07</td>\n",
       "      <td>16001011</td>\n",
       "      <td>6</td>\n",
       "      <td>38.85</td>\n",
       "      <td>15.0455</td>\n",
       "      <td>0167</td>\n",
       "      <td>3.0</td>\n",
       "      <td>\"</td>\n",
       "      <td>3.875</td>\n",
       "      <td>\"</td>\n",
       "      <td>Rectangle</td>\n",
       "      <td>NaN</td>\n",
       "      <td>.125\"</td>\n",
       "      <td>1.0</td>\n",
       "      <td>2015-10-07</td>\n",
       "      <td>2015</td>\n",
       "      <td>10</td>\n",
       "      <td>7</td>\n",
       "      <td>Wednesday</td>\n",
       "    </tr>\n",
       "    <tr>\n",
       "      <th>2</th>\n",
       "      <td>2016-01-18</td>\n",
       "      <td>16001011</td>\n",
       "      <td>6</td>\n",
       "      <td>38.85</td>\n",
       "      <td>15.0455</td>\n",
       "      <td>0167</td>\n",
       "      <td>3.0</td>\n",
       "      <td>\"</td>\n",
       "      <td>3.875</td>\n",
       "      <td>\"</td>\n",
       "      <td>Rectangle</td>\n",
       "      <td>NaN</td>\n",
       "      <td>.125\"</td>\n",
       "      <td>1.0</td>\n",
       "      <td>2016-01-18</td>\n",
       "      <td>2016</td>\n",
       "      <td>1</td>\n",
       "      <td>18</td>\n",
       "      <td>Monday</td>\n",
       "    </tr>\n",
       "    <tr>\n",
       "      <th>3</th>\n",
       "      <td>2016-01-18</td>\n",
       "      <td>16001011</td>\n",
       "      <td>6</td>\n",
       "      <td>38.85</td>\n",
       "      <td>15.0455</td>\n",
       "      <td>0167</td>\n",
       "      <td>3.0</td>\n",
       "      <td>\"</td>\n",
       "      <td>3.875</td>\n",
       "      <td>\"</td>\n",
       "      <td>Rectangle</td>\n",
       "      <td>NaN</td>\n",
       "      <td>.125\"</td>\n",
       "      <td>1.0</td>\n",
       "      <td>2016-01-18</td>\n",
       "      <td>2016</td>\n",
       "      <td>1</td>\n",
       "      <td>18</td>\n",
       "      <td>Monday</td>\n",
       "    </tr>\n",
       "    <tr>\n",
       "      <th>4</th>\n",
       "      <td>2016-04-29</td>\n",
       "      <td>16001011</td>\n",
       "      <td>14</td>\n",
       "      <td>38.85</td>\n",
       "      <td>14.5266</td>\n",
       "      <td>0167</td>\n",
       "      <td>3.0</td>\n",
       "      <td>\"</td>\n",
       "      <td>3.875</td>\n",
       "      <td>\"</td>\n",
       "      <td>Rectangle</td>\n",
       "      <td>NaN</td>\n",
       "      <td>.125\"</td>\n",
       "      <td>1.0</td>\n",
       "      <td>2016-04-29</td>\n",
       "      <td>2016</td>\n",
       "      <td>4</td>\n",
       "      <td>29</td>\n",
       "      <td>Friday</td>\n",
       "    </tr>\n",
       "  </tbody>\n",
       "</table>\n",
       "</div>"
      ],
      "text/plain": [
       "  INVOICE_DATE      ITEM  UNITS_SOLD  UNIT_PRICE  UNIT_COST MATERIAL_NO  \\\n",
       "0   2015-10-07  16001011           6       38.85    15.0455        0167   \n",
       "1   2015-10-07  16001011           6       38.85    15.0455        0167   \n",
       "2   2016-01-18  16001011           6       38.85    15.0455        0167   \n",
       "3   2016-01-18  16001011           6       38.85    15.0455        0167   \n",
       "4   2016-04-29  16001011          14       38.85    14.5266        0167   \n",
       "\n",
       "   LENGTH LENGTH_UNITS  WIDTH WIDTH_UNITS      SHAPE  DIAMETER VERTICAL_GAP  \\\n",
       "0     3.0            \"  3.875           \"  Rectangle       NaN        .125\"   \n",
       "1     3.0            \"  3.875           \"  Rectangle       NaN        .125\"   \n",
       "2     3.0            \"  3.875           \"  Rectangle       NaN        .125\"   \n",
       "3     3.0            \"  3.875           \"  Rectangle       NaN        .125\"   \n",
       "4     3.0            \"  3.875           \"  Rectangle       NaN        .125\"   \n",
       "\n",
       "   NO_ACROSS       date  year  month  day        DOW  \n",
       "0        1.0 2015-10-07  2015     10    7  Wednesday  \n",
       "1        1.0 2015-10-07  2015     10    7  Wednesday  \n",
       "2        1.0 2016-01-18  2016      1   18     Monday  \n",
       "3        1.0 2016-01-18  2016      1   18     Monday  \n",
       "4        1.0 2016-04-29  2016      4   29     Friday  "
      ]
     },
     "execution_count": 7,
     "metadata": {},
     "output_type": "execute_result"
    }
   ],
   "source": [
    "# feature transformation for datetime\n",
    "# rename INVOICE_DATE column\n",
    "sample['date'] = sample['INVOICE_DATE']\n",
    "# turn time series into demand week, year, month, DOW\n",
    "def convert_dates(df):\n",
    "    df['year'] = df['date'].dt.year\n",
    "    df['month'] = df['date'].dt.month\n",
    "    df['day'] = df['date'].dt.day\n",
    "    return df\n",
    "# DOW\n",
    "def convert_DOW(df):\n",
    "    df['DOW'] = df['date'].dt.weekday_name\n",
    "    return df\n",
    "sample = convert_dates(sample)\n",
    "sample = convert_DOW(sample)\n",
    "sample.head()"
   ]
  },
  {
   "cell_type": "code",
   "execution_count": 8,
   "metadata": {},
   "outputs": [
    {
     "name": "stdout",
     "output_type": "stream",
     "text": [
      "<class 'pandas.core.frame.DataFrame'>\n",
      "RangeIndex: 222904 entries, 0 to 222903\n",
      "Data columns (total 17 columns):\n",
      "ITEM            222904 non-null object\n",
      "UNITS_SOLD      222904 non-null int64\n",
      "UNIT_PRICE      222904 non-null float64\n",
      "UNIT_COST       222904 non-null float64\n",
      "MATERIAL_NO     222862 non-null object\n",
      "LENGTH          211377 non-null float64\n",
      "LENGTH_UNITS    211193 non-null object\n",
      "WIDTH           211839 non-null float64\n",
      "WIDTH_UNITS     211837 non-null object\n",
      "SHAPE           222400 non-null object\n",
      "DIAMETER        11023 non-null float64\n",
      "VERTICAL_GAP    220670 non-null object\n",
      "NO_ACROSS       222400 non-null float64\n",
      "year            222904 non-null int64\n",
      "month           222904 non-null int64\n",
      "day             222904 non-null int64\n",
      "DOW             222904 non-null object\n",
      "dtypes: float64(6), int64(4), object(7)\n",
      "memory usage: 28.9+ MB\n"
     ]
    }
   ],
   "source": [
    "# drop INVOICE_DATE and DATE\n",
    "sample.drop(labels=['INVOICE_DATE','date'], axis=1, inplace=True)\n",
    "sample.info()"
   ]
  },
  {
   "cell_type": "markdown",
   "metadata": {},
   "source": [
    "ITEM"
   ]
  },
  {
   "cell_type": "code",
   "execution_count": 9,
   "metadata": {},
   "outputs": [
    {
     "name": "stdout",
     "output_type": "stream",
     "text": [
      "<class 'pandas.core.frame.DataFrame'>\n",
      "RangeIndex: 222904 entries, 0 to 222903\n",
      "Data columns (total 17 columns):\n",
      "ITEM            222291 non-null float64\n",
      "UNITS_SOLD      222904 non-null int64\n",
      "UNIT_PRICE      222904 non-null float64\n",
      "UNIT_COST       222904 non-null float64\n",
      "MATERIAL_NO     222862 non-null object\n",
      "LENGTH          211377 non-null float64\n",
      "LENGTH_UNITS    211193 non-null object\n",
      "WIDTH           211839 non-null float64\n",
      "WIDTH_UNITS     211837 non-null object\n",
      "SHAPE           222400 non-null object\n",
      "DIAMETER        11023 non-null float64\n",
      "VERTICAL_GAP    220670 non-null object\n",
      "NO_ACROSS       222400 non-null float64\n",
      "year            222904 non-null int64\n",
      "month           222904 non-null int64\n",
      "day             222904 non-null int64\n",
      "DOW             222904 non-null object\n",
      "dtypes: float64(7), int64(4), object(6)\n",
      "memory usage: 28.9+ MB\n"
     ]
    }
   ],
   "source": [
    "# turn into integer\n",
    "sample.ITEM = pd.to_numeric(sample.ITEM, errors='coerce')\n",
    "sample.info()"
   ]
  },
  {
   "cell_type": "markdown",
   "metadata": {},
   "source": [
    "MATERIAL_NO"
   ]
  },
  {
   "cell_type": "code",
   "execution_count": 10,
   "metadata": {},
   "outputs": [
    {
     "data": {
      "text/plain": [
       "array(['0167', '0158', '0063', '0043', '0119', '0106', '0160', '0002',\n",
       "       nan, '0091', '0164', '0165', '13', '0009', '0117', '0001', '0129',\n",
       "       '0162', '0121', '0122', '0154', '0006', '0066', '0168', '0035',\n",
       "       '0163', '0024', '0064', '0052', '0003', '0055', '0112', '0025',\n",
       "       '0014', '0051', '0019', '0048', '0004', '0123', '0031', '0040',\n",
       "       '0116', '0026', '0011', '0069', '0010', '0172', '05', '54', '0128',\n",
       "       '0087', '0021', '08', '0018', '0111', '134', '0068', '126', '0049',\n",
       "       '0058', '0093', '0062', '0060', '0156', '89', '0183', '0166',\n",
       "       '0169', '0178', '0188', '0190', '0198', '0200', '0202', '205',\n",
       "       '0207', '0208', '0216', '0222', '0233', '242', '0135', '0061',\n",
       "       '23', '110', '0012', '0077', '0075', '85', '37', '0092', '76',\n",
       "       '96', 'PURCHASED', '74', 'NC0410', '0159', '0185', '0197', '0217',\n",
       "       '0224', 'NC0131', '0204', '201', '0206', '0211', '214', '0215',\n",
       "       '0218', '0228', '0223', '0157', '0237', '0236', '238', '0232',\n",
       "       '245', '244', '246', 'NC0364', 'NC0599', 'NC0260', 'NC0368'],\n",
       "      dtype=object)"
      ]
     },
     "execution_count": 10,
     "metadata": {},
     "output_type": "execute_result"
    }
   ],
   "source": [
    "# look at unique values - few starts with NC (for \"not configured') and a few are 'PURCHASED'\n",
    "sample.MATERIAL_NO.unique()"
   ]
  },
  {
   "cell_type": "code",
   "execution_count": 11,
   "metadata": {},
   "outputs": [
    {
     "name": "stdout",
     "output_type": "stream",
     "text": [
      "<class 'pandas.core.frame.DataFrame'>\n",
      "Int64Index: 222898 entries, 0 to 222903\n",
      "Data columns (total 17 columns):\n",
      "ITEM            222287 non-null float64\n",
      "UNITS_SOLD      222898 non-null int64\n",
      "UNIT_PRICE      222898 non-null float64\n",
      "UNIT_COST       222898 non-null float64\n",
      "MATERIAL_NO     222856 non-null object\n",
      "LENGTH          211371 non-null float64\n",
      "LENGTH_UNITS    211187 non-null object\n",
      "WIDTH           211833 non-null float64\n",
      "WIDTH_UNITS     211831 non-null object\n",
      "SHAPE           222394 non-null object\n",
      "DIAMETER        11023 non-null float64\n",
      "VERTICAL_GAP    220666 non-null object\n",
      "NO_ACROSS       222394 non-null float64\n",
      "year            222898 non-null int64\n",
      "month           222898 non-null int64\n",
      "day             222898 non-null int64\n",
      "DOW             222898 non-null object\n",
      "dtypes: float64(7), int64(4), object(6)\n",
      "memory usage: 30.6+ MB\n"
     ]
    }
   ],
   "source": [
    "# drop where MATERIAL_NO is 'PURCHASED'\n",
    "sample = sample[sample.MATERIAL_NO != 'PURCHASED']\n",
    "sample.info()"
   ]
  },
  {
   "cell_type": "code",
   "execution_count": 12,
   "metadata": {},
   "outputs": [
    {
     "name": "stdout",
     "output_type": "stream",
     "text": [
      "<class 'pandas.core.frame.DataFrame'>\n",
      "Int64Index: 222672 entries, 0 to 222903\n",
      "Data columns (total 17 columns):\n",
      "ITEM            222198 non-null float64\n",
      "UNITS_SOLD      222672 non-null int64\n",
      "UNIT_PRICE      222672 non-null float64\n",
      "UNIT_COST       222672 non-null float64\n",
      "MATERIAL_NO     222672 non-null object\n",
      "LENGTH          211187 non-null float64\n",
      "LENGTH_UNITS    211003 non-null object\n",
      "WIDTH           211649 non-null float64\n",
      "WIDTH_UNITS     211647 non-null object\n",
      "SHAPE           222210 non-null object\n",
      "DIAMETER        11023 non-null float64\n",
      "VERTICAL_GAP    220590 non-null object\n",
      "NO_ACROSS       222210 non-null float64\n",
      "year            222672 non-null int64\n",
      "month           222672 non-null int64\n",
      "day             222672 non-null int64\n",
      "DOW             222672 non-null object\n",
      "dtypes: float64(7), int64(4), object(6)\n",
      "memory usage: 30.6+ MB\n"
     ]
    }
   ],
   "source": [
    "# drop where MATERIAL_NO starts with NC  (184 instances)\n",
    "sample = sample[sample.MATERIAL_NO.str.startswith('NC') == False]\n",
    "sample.info()"
   ]
  },
  {
   "cell_type": "code",
   "execution_count": 13,
   "metadata": {},
   "outputs": [
    {
     "name": "stdout",
     "output_type": "stream",
     "text": [
      "<class 'pandas.core.frame.DataFrame'>\n",
      "Int64Index: 222672 entries, 0 to 222903\n",
      "Data columns (total 17 columns):\n",
      "ITEM            222198 non-null float64\n",
      "UNITS_SOLD      222672 non-null int64\n",
      "UNIT_PRICE      222672 non-null float64\n",
      "UNIT_COST       222672 non-null float64\n",
      "MATERIAL_NO     222672 non-null int64\n",
      "LENGTH          211187 non-null float64\n",
      "LENGTH_UNITS    211003 non-null object\n",
      "WIDTH           211649 non-null float64\n",
      "WIDTH_UNITS     211647 non-null object\n",
      "SHAPE           222210 non-null object\n",
      "DIAMETER        11023 non-null float64\n",
      "VERTICAL_GAP    220590 non-null object\n",
      "NO_ACROSS       222210 non-null float64\n",
      "year            222672 non-null int64\n",
      "month           222672 non-null int64\n",
      "day             222672 non-null int64\n",
      "DOW             222672 non-null object\n",
      "dtypes: float64(7), int64(5), object(5)\n",
      "memory usage: 30.6+ MB\n"
     ]
    }
   ],
   "source": [
    "# turn into integer\n",
    "sample.MATERIAL_NO = pd.to_numeric(sample.MATERIAL_NO, errors='coerce')\n",
    "sample.info()"
   ]
  },
  {
   "cell_type": "markdown",
   "metadata": {},
   "source": [
    "### Transformations"
   ]
  },
  {
   "cell_type": "code",
   "execution_count": 14,
   "metadata": {},
   "outputs": [
    {
     "name": "stdout",
     "output_type": "stream",
     "text": [
      "<class 'pandas.core.frame.DataFrame'>\n",
      "Int64Index: 222672 entries, 0 to 222903\n",
      "Data columns (total 17 columns):\n",
      "ITEM            222198 non-null float64\n",
      "UNITS_SOLD      222672 non-null int64\n",
      "UNIT_PRICE      222672 non-null float64\n",
      "UNIT_COST       222672 non-null float64\n",
      "MATERIAL_NO     222672 non-null int64\n",
      "LENGTH          222672 non-null float64\n",
      "LENGTH_UNITS    211003 non-null object\n",
      "WIDTH           222672 non-null float64\n",
      "WIDTH_UNITS     211647 non-null object\n",
      "SHAPE           222210 non-null object\n",
      "DIAMETER        222672 non-null float64\n",
      "VERTICAL_GAP    220590 non-null object\n",
      "NO_ACROSS       222210 non-null float64\n",
      "year            222672 non-null int64\n",
      "month           222672 non-null int64\n",
      "day             222672 non-null int64\n",
      "DOW             222672 non-null object\n",
      "dtypes: float64(7), int64(5), object(5)\n",
      "memory usage: 30.6+ MB\n"
     ]
    }
   ],
   "source": [
    "# fill LENGTH, WIDTH, DIAMETER, NaNs with 0 for \n",
    "sample[['LENGTH', 'WIDTH', 'DIAMETER']] = sample[['LENGTH', 'WIDTH', 'DIAMETER']].fillna(value=0)\n",
    "sample.info()"
   ]
  },
  {
   "cell_type": "code",
   "execution_count": 15,
   "metadata": {},
   "outputs": [
    {
     "name": "stdout",
     "output_type": "stream",
     "text": [
      "<class 'pandas.core.frame.DataFrame'>\n",
      "Int64Index: 222672 entries, 0 to 222903\n",
      "Data columns (total 19 columns):\n",
      "ITEM              222198 non-null float64\n",
      "UNITS_SOLD        222672 non-null int64\n",
      "UNIT_PRICE        222672 non-null float64\n",
      "UNIT_COST         222672 non-null float64\n",
      "MATERIAL_NO       222672 non-null int64\n",
      "LENGTH            222672 non-null float64\n",
      "LENGTH_UNITS      211003 non-null object\n",
      "WIDTH             222672 non-null float64\n",
      "WIDTH_UNITS       211647 non-null object\n",
      "SHAPE             222210 non-null object\n",
      "DIAMETER          222672 non-null float64\n",
      "VERTICAL_GAP      220590 non-null object\n",
      "NO_ACROSS         222210 non-null float64\n",
      "year              222672 non-null int64\n",
      "month             222672 non-null int64\n",
      "day               222672 non-null int64\n",
      "DOW               222672 non-null object\n",
      "VERT_GAP_UNITS    219511 non-null object\n",
      "VERT_GAP          216713 non-null object\n",
      "dtypes: float64(7), int64(5), object(7)\n",
      "memory usage: 34.0+ MB\n"
     ]
    }
   ],
   "source": [
    "# parse VERTICAL_GAP into VERT_GAP and VERT_GAP_UNITS\n",
    "import re\n",
    "\n",
    "sample['VERT_GAP_UNITS'] = sample['VERTICAL_GAP'].str.extract('(\"|mm)', expand=True, flags = re.IGNORECASE)\n",
    "sample['VERT_GAP'] = sample['VERTICAL_GAP'].str.extract('(.\\d+)', expand=True, flags = re.IGNORECASE)\n",
    "sample.info()"
   ]
  },
  {
   "cell_type": "code",
   "execution_count": 16,
   "metadata": {},
   "outputs": [
    {
     "name": "stdout",
     "output_type": "stream",
     "text": [
      "<class 'pandas.core.frame.DataFrame'>\n",
      "Int64Index: 222672 entries, 0 to 222903\n",
      "Data columns (total 19 columns):\n",
      "ITEM              222198 non-null float64\n",
      "UNITS_SOLD        222672 non-null int64\n",
      "UNIT_PRICE        222672 non-null float64\n",
      "UNIT_COST         222672 non-null float64\n",
      "MATERIAL_NO       222672 non-null int64\n",
      "LENGTH            222672 non-null float64\n",
      "LENGTH_UNITS      211003 non-null object\n",
      "WIDTH             222672 non-null float64\n",
      "WIDTH_UNITS       211647 non-null object\n",
      "SHAPE             222210 non-null object\n",
      "DIAMETER          222672 non-null float64\n",
      "VERTICAL_GAP      220590 non-null object\n",
      "NO_ACROSS         222210 non-null float64\n",
      "year              222672 non-null int64\n",
      "month             222672 non-null int64\n",
      "day               222672 non-null int64\n",
      "DOW               222672 non-null object\n",
      "VERT_GAP_UNITS    219511 non-null object\n",
      "VERT_GAP          216713 non-null float64\n",
      "dtypes: float64(8), int64(5), object(6)\n",
      "memory usage: 34.0+ MB\n"
     ]
    }
   ],
   "source": [
    "# change VERT_GAP to float\n",
    "sample.VERT_GAP = sample.VERT_GAP.astype(float)\n",
    "sample.info()"
   ]
  },
  {
   "cell_type": "code",
   "execution_count": 17,
   "metadata": {},
   "outputs": [
    {
     "data": {
      "text/plain": [
       "rectangle        186995\n",
       "circle            10925\n",
       "square            10070\n",
       "continuous         3744\n",
       "custom             3259\n",
       "oval               1712\n",
       "arc                1568\n",
       "multi-part         1087\n",
       "notched tag         899\n",
       "lip balm            548\n",
       "trapezoid           387\n",
       "band/jar band       352\n",
       "tombstone           268\n",
       "l-shape             127\n",
       "doughnut             94\n",
       "oblong               66\n",
       "octagon              32\n",
       "barbell              18\n",
       "diamond              16\n",
       "triangle             14\n",
       "ribbon                8\n",
       "heart                 6\n",
       "shield                6\n",
       "hexagon               4\n",
       "bows/ties             2\n",
       "tear drop             2\n",
       "bottom cutter         1\n",
       "Name: SHAPE, dtype: int64"
      ]
     },
     "execution_count": 17,
     "metadata": {},
     "output_type": "execute_result"
    }
   ],
   "source": [
    "# SHAPE: first fix uppercase/lowercase\n",
    "sample.SHAPE = sample.SHAPE.str.lower()\n",
    "sample.SHAPE.value_counts()"
   ]
  },
  {
   "cell_type": "markdown",
   "metadata": {},
   "source": [
    "### Outliers (measurements):"
   ]
  },
  {
   "cell_type": "code",
   "execution_count": 18,
   "metadata": {},
   "outputs": [
    {
     "name": "stdout",
     "output_type": "stream",
     "text": [
      "['\"' nan 'mm']\n",
      "['\"' 'mm' nan]\n",
      "['\"' 'mm' nan \"'\" 'M']\n"
     ]
    }
   ],
   "source": [
    "# fix mm, MM issue in WIDTH_UNITS, LENGTH_UNITS, VERT_GAP_UNITS\n",
    "sample.WIDTH_UNITS.replace('MM', 'mm', inplace=True)\n",
    "sample.LENGTH_UNITS.replace('MM', 'mm', inplace=True)\n",
    "sample.VERT_GAP_UNITS.replace('MM', 'mm', inplace=True)\n",
    "print(sample.VERT_GAP_UNITS.unique())\n",
    "print(sample.WIDTH_UNITS.unique())\n",
    "print(sample.LENGTH_UNITS.unique())"
   ]
  },
  {
   "cell_type": "code",
   "execution_count": 19,
   "metadata": {},
   "outputs": [
    {
     "name": "stdout",
     "output_type": "stream",
     "text": [
      "<class 'pandas.core.frame.DataFrame'>\n",
      "Int64Index: 222624 entries, 0 to 222903\n",
      "Data columns (total 19 columns):\n",
      "ITEM              222150 non-null float64\n",
      "UNITS_SOLD        222624 non-null int64\n",
      "UNIT_PRICE        222624 non-null float64\n",
      "UNIT_COST         222624 non-null float64\n",
      "MATERIAL_NO       222624 non-null int64\n",
      "LENGTH            222624 non-null float64\n",
      "LENGTH_UNITS      211003 non-null object\n",
      "WIDTH             222624 non-null float64\n",
      "WIDTH_UNITS       211647 non-null object\n",
      "SHAPE             222162 non-null object\n",
      "DIAMETER          222624 non-null float64\n",
      "VERTICAL_GAP      220542 non-null object\n",
      "NO_ACROSS         222162 non-null float64\n",
      "year              222624 non-null int64\n",
      "month             222624 non-null int64\n",
      "day               222624 non-null int64\n",
      "DOW               222624 non-null object\n",
      "VERT_GAP_UNITS    219463 non-null object\n",
      "VERT_GAP          216665 non-null float64\n",
      "dtypes: float64(8), int64(5), object(6)\n",
      "memory usage: 34.0+ MB\n"
     ]
    }
   ],
   "source": [
    "# diameter - drop 6 outliers above 10mm (48 values)\n",
    "sample = sample[sample.DIAMETER <=10]\n",
    "sample.info()"
   ]
  },
  {
   "cell_type": "code",
   "execution_count": 20,
   "metadata": {},
   "outputs": [
    {
     "name": "stdout",
     "output_type": "stream",
     "text": [
      "<class 'pandas.core.frame.DataFrame'>\n",
      "Int64Index: 222624 entries, 0 to 222903\n",
      "Data columns (total 22 columns):\n",
      "ITEM              222150 non-null float64\n",
      "UNITS_SOLD        222624 non-null int64\n",
      "UNIT_PRICE        222624 non-null float64\n",
      "UNIT_COST         222624 non-null float64\n",
      "MATERIAL_NO       222624 non-null int64\n",
      "LENGTH            222624 non-null float64\n",
      "LENGTH_UNITS      211003 non-null object\n",
      "WIDTH             222624 non-null float64\n",
      "WIDTH_UNITS       211647 non-null object\n",
      "SHAPE             222162 non-null object\n",
      "DIAMETER          222624 non-null float64\n",
      "VERTICAL_GAP      220542 non-null object\n",
      "NO_ACROSS         222162 non-null float64\n",
      "year              222624 non-null int64\n",
      "month             222624 non-null int64\n",
      "day               222624 non-null int64\n",
      "DOW               222624 non-null object\n",
      "VERT_GAP_UNITS    219463 non-null object\n",
      "VERT_GAP          216665 non-null float64\n",
      "WIDTH_NEW         222624 non-null float64\n",
      "LENGTH_NEW        222624 non-null float64\n",
      "VERT_GAP_NEW      216665 non-null float64\n",
      "dtypes: float64(11), int64(5), object(6)\n",
      "memory usage: 39.1+ MB\n"
     ]
    }
   ],
   "source": [
    "# convert WIDTH, LENGTH, VERT_GAP\n",
    "def convert_scales(row, col_unit, col):\n",
    "    if row[col_unit] == 'M':\n",
    "        return row[col] * 1000\n",
    "    elif row[col_unit] == \"'\":\n",
    "        return row[col] * 304.8\n",
    "    elif row[col_unit] == '\"':\n",
    "        return row[col] * 25.4\n",
    "    else:\n",
    "        return row[col]\n",
    "\n",
    "sample['WIDTH_NEW'] = sample.apply(convert_scales, col_unit='WIDTH_UNITS', col='WIDTH', axis=1)\n",
    "sample['LENGTH_NEW'] = sample.apply(convert_scales, col_unit='LENGTH_UNITS', col='LENGTH', axis=1)\n",
    "sample['VERT_GAP_NEW'] = sample.apply(convert_scales, col_unit='VERT_GAP_UNITS', col='VERT_GAP', axis=1)\n",
    "sample.info()"
   ]
  },
  {
   "cell_type": "code",
   "execution_count": 21,
   "metadata": {},
   "outputs": [],
   "source": [
    "# drop LENGTH, LENGTH_UNITS, WIDTH, WIDTH_UNITS, VERTICAL_GAP, VERT_GAP_UNITS, VERT_GAP\n",
    "sample.drop(['LENGTH', 'LENGTH_UNITS', 'WIDTH', 'WIDTH_UNITS', 'VERTICAL_GAP', 'VERT_GAP_UNITS', 'VERT_GAP'], axis=1, inplace=True)"
   ]
  },
  {
   "cell_type": "markdown",
   "metadata": {},
   "source": [
    "### Outliers (items related to sales):"
   ]
  },
  {
   "cell_type": "code",
   "execution_count": 22,
   "metadata": {},
   "outputs": [],
   "source": [
    "# drop minus and zero amounts\n",
    "sample = sample[sample.UNITS_SOLD > 0]\n",
    "sample = sample[sample.UNIT_PRICE > 0]\n",
    "sample = sample[sample.UNIT_COST > 0]"
   ]
  },
  {
   "cell_type": "markdown",
   "metadata": {},
   "source": [
    "### Missing values"
   ]
  },
  {
   "cell_type": "code",
   "execution_count": 23,
   "metadata": {},
   "outputs": [
    {
     "name": "stdout",
     "output_type": "stream",
     "text": [
      "<class 'pandas.core.frame.DataFrame'>\n",
      "Int64Index: 201392 entries, 0 to 222903\n",
      "Data columns (total 15 columns):\n",
      "ITEM            200922 non-null float64\n",
      "UNITS_SOLD      201392 non-null int64\n",
      "UNIT_PRICE      201392 non-null float64\n",
      "UNIT_COST       201392 non-null float64\n",
      "MATERIAL_NO     201392 non-null int64\n",
      "SHAPE           200952 non-null object\n",
      "DIAMETER        201392 non-null float64\n",
      "NO_ACROSS       200952 non-null float64\n",
      "year            201392 non-null int64\n",
      "month           201392 non-null int64\n",
      "day             201392 non-null int64\n",
      "DOW             201392 non-null object\n",
      "WIDTH_NEW       201392 non-null float64\n",
      "LENGTH_NEW      201392 non-null float64\n",
      "VERT_GAP_NEW    195833 non-null float64\n",
      "dtypes: float64(8), int64(5), object(2)\n",
      "memory usage: 24.6+ MB\n"
     ]
    }
   ],
   "source": [
    "# inspect remainder missing values\n",
    "sample.info()"
   ]
  },
  {
   "cell_type": "code",
   "execution_count": 24,
   "metadata": {},
   "outputs": [
    {
     "name": "stdout",
     "output_type": "stream",
     "text": [
      "<class 'pandas.core.frame.DataFrame'>\n",
      "Int64Index: 201392 entries, 0 to 222903\n",
      "Data columns (total 15 columns):\n",
      "ITEM            200922 non-null float64\n",
      "UNITS_SOLD      201392 non-null int64\n",
      "UNIT_PRICE      201392 non-null float64\n",
      "UNIT_COST       201392 non-null float64\n",
      "MATERIAL_NO     201392 non-null int64\n",
      "SHAPE           200952 non-null object\n",
      "DIAMETER        201392 non-null float64\n",
      "NO_ACROSS       200952 non-null float64\n",
      "year            201392 non-null int64\n",
      "month           201392 non-null int64\n",
      "day             201392 non-null int64\n",
      "DOW             201392 non-null object\n",
      "WIDTH_NEW       201392 non-null float64\n",
      "LENGTH_NEW      201392 non-null float64\n",
      "VERT_GAP_NEW    201392 non-null float64\n",
      "dtypes: float64(8), int64(5), object(2)\n",
      "memory usage: 24.6+ MB\n"
     ]
    }
   ],
   "source": [
    "# and fill VERT_GAP_NEW with 0\n",
    "sample['VERT_GAP_NEW'] = sample['VERT_GAP_NEW'].fillna(value=0)\n",
    "sample.info()"
   ]
  },
  {
   "cell_type": "code",
   "execution_count": 25,
   "metadata": {},
   "outputs": [
    {
     "name": "stdout",
     "output_type": "stream",
     "text": [
      "<class 'pandas.core.frame.DataFrame'>\n",
      "Int64Index: 200484 entries, 0 to 222290\n",
      "Data columns (total 15 columns):\n",
      "ITEM            200484 non-null float64\n",
      "UNITS_SOLD      200484 non-null int64\n",
      "UNIT_PRICE      200484 non-null float64\n",
      "UNIT_COST       200484 non-null float64\n",
      "MATERIAL_NO     200484 non-null int64\n",
      "SHAPE           200484 non-null object\n",
      "DIAMETER        200484 non-null float64\n",
      "NO_ACROSS       200484 non-null float64\n",
      "year            200484 non-null int64\n",
      "month           200484 non-null int64\n",
      "day             200484 non-null int64\n",
      "DOW             200484 non-null object\n",
      "WIDTH_NEW       200484 non-null float64\n",
      "LENGTH_NEW      200484 non-null float64\n",
      "VERT_GAP_NEW    200484 non-null float64\n",
      "dtypes: float64(8), int64(5), object(2)\n",
      "memory usage: 24.5+ MB\n"
     ]
    }
   ],
   "source": [
    "# for now, drop all missing values in ITEM, SHAPE, NO_ACROSS\n",
    "sample = sample.dropna(axis=0)\n",
    "sample.info()"
   ]
  },
  {
   "cell_type": "markdown",
   "metadata": {},
   "source": [
    "## Preprocessing"
   ]
  },
  {
   "cell_type": "markdown",
   "metadata": {},
   "source": [
    "Preprocessing categorical data (this is where the dataset gets huge!):\n",
    "* DOW (7)\n",
    "* MATERIAL_NO (113)\n",
    "* SHAPE (26)\n",
    "* ITEM (8185) -- for now, I will drop ITEM\n",
    "* for linear regression, I need to drop one column to avoid multicollinearity\n",
    "\n",
    "Scaling data for linear regression:\n",
    "* use sklearn's standard scaler for SGD Regressor\n",
    "* use normalize option in regularized regression\n",
    "* no need to scale for random forest"
   ]
  },
  {
   "cell_type": "markdown",
   "metadata": {},
   "source": [
    "### Processing categorical data for regression (sample_new)"
   ]
  },
  {
   "cell_type": "code",
   "execution_count": 26,
   "metadata": {},
   "outputs": [
    {
     "name": "stdout",
     "output_type": "stream",
     "text": [
      "8185\n",
      "113\n",
      "26\n",
      "['Wednesday' 'Monday' 'Friday' 'Saturday' 'Thursday' 'Sunday' 'Tuesday']\n"
     ]
    }
   ],
   "source": [
    "# categorical data: ITEM, MATERIAL_NO, SHAPE, DOW\n",
    "print(len(sample.ITEM.unique())) # tons\n",
    "print(len(sample.MATERIAL_NO.unique())) # just 113\n",
    "print(len(sample.SHAPE.unique())) # just 26\n",
    "# look at DOW\n",
    "print(sample.DOW.unique()) # just 7"
   ]
  },
  {
   "cell_type": "code",
   "execution_count": 27,
   "metadata": {},
   "outputs": [
    {
     "name": "stdout",
     "output_type": "stream",
     "text": [
      "<class 'pandas.core.frame.DataFrame'>\n",
      "Int64Index: 200484 entries, 0 to 222290\n",
      "Data columns (total 15 columns):\n",
      "ITEM            200484 non-null float64\n",
      "UNITS_SOLD      200484 non-null int64\n",
      "UNIT_PRICE      200484 non-null float64\n",
      "UNIT_COST       200484 non-null float64\n",
      "MATERIAL_NO     200484 non-null int64\n",
      "SHAPE           200484 non-null object\n",
      "DIAMETER        200484 non-null float64\n",
      "NO_ACROSS       200484 non-null float64\n",
      "year            200484 non-null int64\n",
      "month           200484 non-null int64\n",
      "day             200484 non-null int64\n",
      "DOW             200484 non-null object\n",
      "WIDTH_NEW       200484 non-null float64\n",
      "LENGTH_NEW      200484 non-null float64\n",
      "VERT_GAP_NEW    200484 non-null float64\n",
      "dtypes: float64(8), int64(5), object(2)\n",
      "memory usage: 24.5+ MB\n"
     ]
    }
   ],
   "source": [
    "# look at remainder df in size\n",
    "sample.info()"
   ]
  },
  {
   "cell_type": "code",
   "execution_count": 28,
   "metadata": {},
   "outputs": [
    {
     "name": "stdout",
     "output_type": "stream",
     "text": [
      "<class 'pandas.core.frame.DataFrame'>\n",
      "Int64Index: 200484 entries, 0 to 222290\n",
      "Data columns (total 41 columns):\n",
      "ITEM             200484 non-null float64\n",
      "UNITS_SOLD       200484 non-null int64\n",
      "UNIT_PRICE       200484 non-null float64\n",
      "UNIT_COST        200484 non-null float64\n",
      "MATERIAL_NO      200484 non-null int64\n",
      "SHAPE            200484 non-null object\n",
      "DIAMETER         200484 non-null float64\n",
      "NO_ACROSS        200484 non-null float64\n",
      "year             200484 non-null int64\n",
      "month            200484 non-null int64\n",
      "day              200484 non-null int64\n",
      "DOW              200484 non-null object\n",
      "WIDTH_NEW        200484 non-null float64\n",
      "LENGTH_NEW       200484 non-null float64\n",
      "VERT_GAP_NEW     200484 non-null float64\n",
      "arc              200484 non-null uint8\n",
      "band/jar band    200484 non-null uint8\n",
      "barbell          200484 non-null uint8\n",
      "bows/ties        200484 non-null uint8\n",
      "circle           200484 non-null uint8\n",
      "continuous       200484 non-null uint8\n",
      "custom           200484 non-null uint8\n",
      "diamond          200484 non-null uint8\n",
      "doughnut         200484 non-null uint8\n",
      "heart            200484 non-null uint8\n",
      "hexagon          200484 non-null uint8\n",
      "l-shape          200484 non-null uint8\n",
      "lip balm         200484 non-null uint8\n",
      "multi-part       200484 non-null uint8\n",
      "notched tag      200484 non-null uint8\n",
      "oblong           200484 non-null uint8\n",
      "octagon          200484 non-null uint8\n",
      "oval             200484 non-null uint8\n",
      "rectangle        200484 non-null uint8\n",
      "ribbon           200484 non-null uint8\n",
      "shield           200484 non-null uint8\n",
      "square           200484 non-null uint8\n",
      "tear drop        200484 non-null uint8\n",
      "tombstone        200484 non-null uint8\n",
      "trapezoid        200484 non-null uint8\n",
      "triangle         200484 non-null uint8\n",
      "dtypes: float64(8), int64(5), object(2), uint8(26)\n",
      "memory usage: 34.4+ MB\n"
     ]
    }
   ],
   "source": [
    "# dummy variables\n",
    "# Create a set of dummy variables from the SHAPE variable\n",
    "df_shape = pd.get_dummies(sample['SHAPE'])\n",
    "\n",
    "# Join the new columns\n",
    "sample_new = sample.join(df_shape)\n",
    "sample_new.info()"
   ]
  },
  {
   "cell_type": "code",
   "execution_count": 29,
   "metadata": {},
   "outputs": [
    {
     "name": "stdout",
     "output_type": "stream",
     "text": [
      "<class 'pandas.core.frame.DataFrame'>\n",
      "Int64Index: 200484 entries, 0 to 222290\n",
      "Columns: 154 entries, ITEM to 246\n",
      "dtypes: float64(8), int64(5), object(2), uint8(139)\n",
      "memory usage: 56.0+ MB\n"
     ]
    }
   ],
   "source": [
    "# Create a set of dummy variables from the MATERIAL_NO variable\n",
    "df_mat = pd.get_dummies(sample['MATERIAL_NO'])\n",
    "\n",
    "# Join the new columns\n",
    "sample_new = sample_new.join(df_mat)\n",
    "sample_new.info()"
   ]
  },
  {
   "cell_type": "code",
   "execution_count": 30,
   "metadata": {},
   "outputs": [
    {
     "name": "stdout",
     "output_type": "stream",
     "text": [
      "<class 'pandas.core.frame.DataFrame'>\n",
      "Int64Index: 200484 entries, 0 to 222290\n",
      "Columns: 161 entries, ITEM to Wednesday\n",
      "dtypes: float64(8), int64(5), object(2), uint8(146)\n",
      "memory usage: 57.4+ MB\n"
     ]
    }
   ],
   "source": [
    "# Create a set of dummy variables from the DOW variable\n",
    "df_dow = pd.get_dummies(sample['DOW'])\n",
    "\n",
    "# Join the new columns\n",
    "sample_new = sample_new.join(df_dow)\n",
    "sample_new.info()"
   ]
  },
  {
   "cell_type": "code",
   "execution_count": 31,
   "metadata": {},
   "outputs": [],
   "source": [
    "# drop dummified categorical columns\n",
    "sample_new.drop(['SHAPE', 'MATERIAL_NO', 'DOW'], axis=1, inplace=True)"
   ]
  },
  {
   "cell_type": "code",
   "execution_count": 32,
   "metadata": {},
   "outputs": [
    {
     "name": "stdout",
     "output_type": "stream",
     "text": [
      "<class 'pandas.core.frame.DataFrame'>\n",
      "Int64Index: 200484 entries, 0 to 222290\n",
      "Columns: 157 entries, UNITS_SOLD to Wednesday\n",
      "dtypes: float64(7), int64(4), uint8(146)\n",
      "memory usage: 51.3 MB\n"
     ]
    }
   ],
   "source": [
    "### CHOICE: for now, drop ITEM\n",
    "sample_new.drop(['ITEM'], axis=1, inplace=True)\n",
    "sample_new.info()"
   ]
  },
  {
   "cell_type": "code",
   "execution_count": 33,
   "metadata": {},
   "outputs": [
    {
     "name": "stdout",
     "output_type": "stream",
     "text": [
      "<class 'pandas.core.frame.DataFrame'>\n",
      "Int64Index: 200484 entries, 0 to 222290\n",
      "Columns: 157 entries, UNITS_SOLD to Wednesday\n",
      "dtypes: float32(7), int64(4), uint8(146)\n",
      "memory usage: 45.9 MB\n"
     ]
    }
   ],
   "source": [
    "# fix floats\n",
    "float_cols = sample_new.select_dtypes(include=['float'])\n",
    "\n",
    "for col in float_cols.columns:\n",
    "    sample_new[col] = pd.to_numeric(sample_new[col], downcast='float')\n",
    "sample_new.info()"
   ]
  },
  {
   "cell_type": "code",
   "execution_count": 34,
   "metadata": {},
   "outputs": [
    {
     "name": "stdout",
     "output_type": "stream",
     "text": [
      "<class 'pandas.core.frame.DataFrame'>\n",
      "Int64Index: 200484 entries, 0 to 222290\n",
      "Columns: 157 entries, UNITS_SOLD to Wednesday\n",
      "dtypes: float32(7), int16(2), int8(148)\n",
      "memory usage: 40.9 MB\n"
     ]
    }
   ],
   "source": [
    "# fix ints\n",
    "int_cols = sample_new.select_dtypes(include=['integer'])\n",
    "\n",
    "for col in int_cols.columns:\n",
    "    sample_new[col] = pd.to_numeric(sample_new[col], downcast='integer')\n",
    "sample_new.info()"
   ]
  },
  {
   "cell_type": "code",
   "execution_count": 35,
   "metadata": {},
   "outputs": [],
   "source": [
    "# drop 1 shape ('lip balm') 1 MATERIAL_NO (246), 1 'DOW' ('Sunday') column for linear regression\n",
    "sample_new_lr = sample_new.drop(['lip balm', 246, 'Sunday'], axis=1)"
   ]
  },
  {
   "cell_type": "code",
   "execution_count": 36,
   "metadata": {},
   "outputs": [
    {
     "name": "stdout",
     "output_type": "stream",
     "text": [
      "<class 'pandas.core.frame.DataFrame'>\n",
      "Int64Index: 200484 entries, 0 to 222290\n",
      "Columns: 157 entries, UNITS_SOLD to Wednesday\n",
      "dtypes: float32(7), int16(2), int8(148)\n",
      "memory usage: 40.9 MB\n",
      "None\n",
      "<class 'pandas.core.frame.DataFrame'>\n",
      "Int64Index: 200484 entries, 0 to 222290\n",
      "Columns: 154 entries, UNITS_SOLD to Wednesday\n",
      "dtypes: float32(7), int16(2), int8(145)\n",
      "memory usage: 40.4 MB\n",
      "None\n"
     ]
    }
   ],
   "source": [
    "print(sample_new.info())\n",
    "print(sample_new_lr.info())"
   ]
  },
  {
   "cell_type": "markdown",
   "metadata": {},
   "source": [
    "## Modeling"
   ]
  },
  {
   "cell_type": "code",
   "execution_count": 37,
   "metadata": {},
   "outputs": [
    {
     "name": "stdout",
     "output_type": "stream",
     "text": [
      "All done!\n"
     ]
    }
   ],
   "source": [
    "# imports for all models\n",
    "from sklearn.model_selection import cross_val_score\n",
    "from sklearn.model_selection import GridSearchCV\n",
    "from sklearn.metrics import mean_squared_error\n",
    "from sklearn.model_selection import train_test_split\n",
    "print(\"All done!\")"
   ]
  },
  {
   "cell_type": "code",
   "execution_count": 38,
   "metadata": {},
   "outputs": [],
   "source": [
    "# specify X, y -- X is UNIT_COST\n",
    "df_new = sample_new_lr.copy()\n",
    "columns = [x for x in df_new.columns if x != 'UNIT_COST']\n",
    "X = df_new[columns]\n",
    "y = df_new['UNIT_COST']"
   ]
  },
  {
   "cell_type": "code",
   "execution_count": 39,
   "metadata": {},
   "outputs": [],
   "source": [
    "# split into test and train\n",
    "from sklearn.model_selection import train_test_split\n",
    "\n",
    "X_train, X_test, y_train, y_test = train_test_split(X, y, test_size=0.2)"
   ]
  },
  {
   "cell_type": "code",
   "execution_count": 76,
   "metadata": {},
   "outputs": [],
   "source": [
    "# scale the data \n",
    "from sklearn.preprocessing import StandardScaler\n",
    "scaler = StandardScaler()\n",
    "scaler.fit(X_train)\n",
    "X_train = scaler.transform(X_train)\n",
    "X_test = scaler.transform(X_test)"
   ]
  },
  {
   "cell_type": "markdown",
   "metadata": {},
   "source": [
    "## Linear Regression"
   ]
  },
  {
   "cell_type": "markdown",
   "metadata": {},
   "source": [
    "### 1. SGD Regressor"
   ]
  },
  {
   "cell_type": "code",
   "execution_count": 69,
   "metadata": {},
   "outputs": [
    {
     "data": {
      "text/plain": [
       "7.0"
      ]
     },
     "execution_count": 69,
     "metadata": {},
     "output_type": "execute_result"
    }
   ],
   "source": [
    "# to set max_iter, use n = size of training data\n",
    "n = len(X_train)\n",
    "max_iter = np.ceil(10**6 / n)\n",
    "max_iter"
   ]
  },
  {
   "cell_type": "code",
   "execution_count": 70,
   "metadata": {},
   "outputs": [
    {
     "name": "stdout",
     "output_type": "stream",
     "text": [
      "Tuned SGD R squared: -1.6050433596887944e+20\n",
      "Tuned SGD MSE: 1.4180708600355778e+23\n"
     ]
    }
   ],
   "source": [
    "# SGD regression - fine tuning alpha with GridSearchCV\n",
    "from sklearn.linear_model import SGDRegressor\n",
    "\n",
    "# Create the hyperparameter grid\n",
    "param_grid = {'alpha': 10.0**-np.arange(1,7)}\n",
    "\n",
    "# Instantiate the SGD regressor: sgdr\n",
    "sgdr = SGDRegressor(loss=\"squared_loss\", penalty=None, max_iter=max_iter) \n",
    "\n",
    "# Setup the GridSearchCV object: sgdr_cv\n",
    "sgdr_cv = GridSearchCV(sgdr, param_grid, cv=10)\n",
    "\n",
    "# Fit it to the training data\n",
    "sgdr_cv.fit(X_train, y_train)\n",
    "\n",
    "# Extract the best estimator\n",
    "best_model_sgdr = sgdr_cv.best_estimator_\n",
    "\n",
    "# Predict on the test set and compute metrics\n",
    "y_pred = best_model_sgdr.predict(X_test)\n",
    "sgdr_r2 = best_model_sgdr.score(X_test, y_test)\n",
    "sgdr_mse = mean_squared_error(y_test, y_pred)\n",
    "print(\"Tuned SGD R squared: {}\".format(sgdr_r2))\n",
    "print(\"Tuned SGD MSE: {}\".format(sgdr_mse))"
   ]
  },
  {
   "cell_type": "markdown",
   "metadata": {},
   "source": [
    "How can R-squared be negative? It can, if the model is worse than a constant model that predicts the value of y disregarding the input features: http://scikit-learn.org/stable/modules/generated/sklearn.metrics.r2_score.html\n",
    "\n",
    "SGD is performing poorly because the data is a sparse matrix. A few options for improvement include:\n",
    "* running SGDRegressor with data in a scipy.parse or scipy.parse.csr_matrix matrix format (see: http://scikit-learn.org/stable/modules/sgd.html)\n",
    "* using AdaGrad, a modified stochastic gradient descent with per-parameter learning rate, a strategy that improves convergence performance over standard stochastic gradient descent in settings where data is sparse and sparse parameters are more informative (see: https://en.wikipedia.org/wiki/Stochastic_gradient_descent). To use AdaGrad, install the lightning package: https://github.com/scikit-learn-contrib/lightning"
   ]
  },
  {
   "cell_type": "markdown",
   "metadata": {},
   "source": [
    "### 2. Lasso Regression"
   ]
  },
  {
   "cell_type": "code",
   "execution_count": 40,
   "metadata": {},
   "outputs": [
    {
     "name": "stdout",
     "output_type": "stream",
     "text": [
      "Tuned Lasso R squared: 0.879640273292515\n",
      "Tuned Lasso MSE: 107.25476242840303\n"
     ]
    }
   ],
   "source": [
    "# Lasso regression - fine tuning alpha with GridSearchCV\n",
    "from sklearn.linear_model import Lasso\n",
    "\n",
    "# Create the hyperparameter grid\n",
    "param_grid = {'alpha': [0.1,0.01,0.001, 0.0001]}\n",
    "\n",
    "# Instantiate the Lasso regressor: lasso\n",
    "lasso = Lasso(normalize=True)\n",
    "\n",
    "# Setup the GridSearchCV object: lasso_cv\n",
    "lasso_cv = GridSearchCV(lasso, param_grid, cv=10)\n",
    "\n",
    "# Fit it to the training data\n",
    "lasso_cv.fit(X_train, y_train)\n",
    "\n",
    "# Extract the best estimator\n",
    "best_model_lr = lasso_cv.best_estimator_\n",
    "\n",
    "# Predict on the test set and compute metrics\n",
    "y_pred = best_model_lr.predict(X_test)\n",
    "lasso_r2 = best_model_lr.score(X_test, y_test)\n",
    "lasso_mse = mean_squared_error(y_test, y_pred)\n",
    "print(\"Tuned Lasso R squared: {}\".format(lasso_r2))\n",
    "print(\"Tuned Lasso MSE: {}\".format(lasso_mse))"
   ]
  },
  {
   "cell_type": "code",
   "execution_count": 41,
   "metadata": {},
   "outputs": [
    {
     "data": {
      "image/png": "[encoded data removed]",
      "text/plain": [
       "<Figure size 1440x576 with 1 Axes>"
      ]
     },
     "metadata": {},
     "output_type": "display_data"
    }
   ],
   "source": [
    "# here's how to plot it\n",
    "import seaborn as sns\n",
    "from sklearn.linear_model import Lasso\n",
    "\n",
    "sns.set()\n",
    "\n",
    "X = df_new.drop('UNIT_COST', axis=1).values\n",
    "y = df_new['UNIT_COST'].values\n",
    "names = df_new.drop('UNIT_COST', axis=1).columns\n",
    "lasso_coef = best_model_lr.fit(X, y).coef_\n",
    "_ = plt.figure(figsize=(20, 8))\n",
    "_ = plt.plot(range(len(names)), lasso_coef)\n",
    "_ = plt.xticks(range(len(names)), names, rotation=90, fontsize=4)\n",
    "_ = plt.ylabel('Coefficients')\n",
    "plt.savefig('coefficients1021.png', dpi=1200)\n",
    "plt.show()"
   ]
  },
  {
   "cell_type": "markdown",
   "metadata": {},
   "source": [
    "### 3. Ridge Regression"
   ]
  },
  {
   "cell_type": "code",
   "execution_count": 42,
   "metadata": {},
   "outputs": [
    {
     "name": "stdout",
     "output_type": "stream",
     "text": [
      "Tuned Ridge R squared: 0.8798732095983998\n",
      "Tuned Ridge MSE: 107.04718860921908\n"
     ]
    }
   ],
   "source": [
    "# Ridge Regression -- fine tuning alpha with GridSearchCV\n",
    "from sklearn.model_selection import GridSearchCV\n",
    "from sklearn.linear_model import Ridge\n",
    "\n",
    "# Create the hyperparameter grid\n",
    "param_grid = {'alpha': np.logspace(-4, 0, 50)}\n",
    "\n",
    "# Instantiate the Ridge regressor: ridge\n",
    "ridge = Ridge(normalize=True)\n",
    "\n",
    "# Setup the GridSearchCV object: ridge_cv\n",
    "ridge_cv = GridSearchCV(ridge, param_grid, cv=10)\n",
    "\n",
    "# Fit it to the training data\n",
    "ridge_cv.fit(X_train, y_train)\n",
    "\n",
    "# Extract the best estimator\n",
    "best_model = ridge_cv.best_estimator_\n",
    "\n",
    "# Predict on the test set and compute metrics\n",
    "y_pred = best_model.predict(X_test)\n",
    "ridge_r2 = best_model.score(X_test, y_test)\n",
    "ridge_mse = mean_squared_error(y_test, y_pred)\n",
    "print(\"Tuned Ridge R squared: {}\".format(ridge_r2))\n",
    "print(\"Tuned Ridge MSE: {}\".format(ridge_mse))"
   ]
  },
  {
   "cell_type": "markdown",
   "metadata": {},
   "source": [
    "## Ensemble"
   ]
  },
  {
   "cell_type": "code",
   "execution_count": 43,
   "metadata": {},
   "outputs": [],
   "source": [
    "# specify X, y -- X is UNIT_COST - use sample_new, not sample_new_lr\n",
    "df_newer = sample_new.copy()\n",
    "columns = [x for x in df_newer.columns if x != 'UNIT_COST']\n",
    "X = df_newer[columns]\n",
    "y = df_newer['UNIT_COST']\n",
    "\n",
    "# split into test and train\n",
    "from sklearn.model_selection import train_test_split\n",
    "\n",
    "X_train, X_test, y_train, y_test = train_test_split(X, y, test_size=0.2, random_state=42)"
   ]
  },
  {
   "cell_type": "markdown",
   "metadata": {},
   "source": [
    "### 1. Random Forest"
   ]
  },
  {
   "cell_type": "code",
   "execution_count": 44,
   "metadata": {},
   "outputs": [
    {
     "name": "stdout",
     "output_type": "stream",
     "text": [
      "Fitting 5 folds for each of 10 candidates, totalling 50 fits\n"
     ]
    },
    {
     "name": "stderr",
     "output_type": "stream",
     "text": [
      "[Parallel(n_jobs=-1)]: Using backend LokyBackend with 4 concurrent workers.\n",
      "[Parallel(n_jobs=-1)]: Done  42 tasks      | elapsed: 37.5min\n",
      "[Parallel(n_jobs=-1)]: Done  50 out of  50 | elapsed: 39.5min finished\n"
     ]
    },
    {
     "name": "stdout",
     "output_type": "stream",
     "text": [
      "Tuned RandomForest R squared: 0.9964790972108857\n",
      "Tuned RandomForest MSE: 3.006343223856055\n"
     ]
    }
   ],
   "source": [
    "# fine-tune with RandomizedSearchCV\n",
    "# Instantiate a random forests regressor 'rf'\n",
    "from sklearn.ensemble import RandomForestRegressor\n",
    "\n",
    "rf = RandomForestRegressor()\n",
    "\n",
    "# Define the dictionary 'params_rf'\n",
    "params_rf = {'n_estimators': [25, 100, 350],\n",
    "             'max_features': ['log2', 'auto', 'sqrt'],\n",
    "             'min_samples_leaf': [1, 2, 4]}\n",
    "\n",
    "# Import RandomizedSearchCV\n",
    "from sklearn.model_selection import RandomizedSearchCV\n",
    "\n",
    "# Instantiate grid_rf\n",
    "grid_rf = RandomizedSearchCV(estimator=rf,\n",
    "                       param_distributions=params_rf,\n",
    "                       scoring='neg_mean_squared_error',\n",
    "                       cv=5,\n",
    "                       verbose=1,\n",
    "                       n_jobs=-1)\n",
    "# Fit 'grid_rf' to the training set\n",
    "grid_rf.fit(X_train, y_train)\n",
    "    \n",
    "# Extract the best estimator\n",
    "best_model = grid_rf.best_estimator_\n",
    "\n",
    "# Predict on the test set and compute metrics\n",
    "y_pred = best_model.predict(X_test)\n",
    "rf_r2 = best_model.score(X_test, y_test)\n",
    "rf_mse = mean_squared_error(y_test, y_pred)\n",
    "print(\"Tuned RandomForest R squared: {}\".format(rf_r2))\n",
    "print(\"Tuned RandomForest MSE: {}\".format(rf_mse))"
   ]
  },
  {
   "cell_type": "code",
   "execution_count": 45,
   "metadata": {},
   "outputs": [
    {
     "data": {
      "text/plain": [
       "{'n_estimators': 100, 'min_samples_leaf': 1, 'max_features': 'auto'}"
      ]
     },
     "execution_count": 45,
     "metadata": {},
     "output_type": "execute_result"
    }
   ],
   "source": [
    "# print best parameters\n",
    "grid_rf.best_params_"
   ]
  },
  {
   "cell_type": "code",
   "execution_count": 46,
   "metadata": {},
   "outputs": [
    {
     "data": {
      "text/html": [
       "<div>\n",
       "<style scoped>\n",
       "    .dataframe tbody tr th:only-of-type {\n",
       "        vertical-align: middle;\n",
       "    }\n",
       "\n",
       "    .dataframe tbody tr th {\n",
       "        vertical-align: top;\n",
       "    }\n",
       "\n",
       "    .dataframe thead th {\n",
       "        text-align: right;\n",
       "    }\n",
       "</style>\n",
       "<table border=\"1\" class=\"dataframe\">\n",
       "  <thead>\n",
       "    <tr style=\"text-align: right;\">\n",
       "      <th></th>\n",
       "      <th>actual</th>\n",
       "      <th>predicted</th>\n",
       "    </tr>\n",
       "  </thead>\n",
       "  <tbody>\n",
       "    <tr>\n",
       "      <th>191673</th>\n",
       "      <td>23.678301</td>\n",
       "      <td>22.744944</td>\n",
       "    </tr>\n",
       "    <tr>\n",
       "      <th>95794</th>\n",
       "      <td>19.082300</td>\n",
       "      <td>19.493599</td>\n",
       "    </tr>\n",
       "    <tr>\n",
       "      <th>1970</th>\n",
       "      <td>32.129799</td>\n",
       "      <td>32.580163</td>\n",
       "    </tr>\n",
       "    <tr>\n",
       "      <th>216999</th>\n",
       "      <td>15.619900</td>\n",
       "      <td>13.517795</td>\n",
       "    </tr>\n",
       "    <tr>\n",
       "      <th>10144</th>\n",
       "      <td>6.848900</td>\n",
       "      <td>6.962422</td>\n",
       "    </tr>\n",
       "    <tr>\n",
       "      <th>129738</th>\n",
       "      <td>10.450800</td>\n",
       "      <td>10.456717</td>\n",
       "    </tr>\n",
       "    <tr>\n",
       "      <th>195255</th>\n",
       "      <td>53.007999</td>\n",
       "      <td>50.621339</td>\n",
       "    </tr>\n",
       "    <tr>\n",
       "      <th>64785</th>\n",
       "      <td>38.275799</td>\n",
       "      <td>38.241691</td>\n",
       "    </tr>\n",
       "    <tr>\n",
       "      <th>91055</th>\n",
       "      <td>10.972400</td>\n",
       "      <td>10.933690</td>\n",
       "    </tr>\n",
       "    <tr>\n",
       "      <th>106506</th>\n",
       "      <td>4.199000</td>\n",
       "      <td>4.214913</td>\n",
       "    </tr>\n",
       "    <tr>\n",
       "      <th>7491</th>\n",
       "      <td>39.055199</td>\n",
       "      <td>38.994646</td>\n",
       "    </tr>\n",
       "    <tr>\n",
       "      <th>39311</th>\n",
       "      <td>21.505501</td>\n",
       "      <td>21.492775</td>\n",
       "    </tr>\n",
       "    <tr>\n",
       "      <th>10247</th>\n",
       "      <td>27.714001</td>\n",
       "      <td>27.674200</td>\n",
       "    </tr>\n",
       "    <tr>\n",
       "      <th>147937</th>\n",
       "      <td>18.737301</td>\n",
       "      <td>18.762181</td>\n",
       "    </tr>\n",
       "    <tr>\n",
       "      <th>179150</th>\n",
       "      <td>36.979900</td>\n",
       "      <td>37.332494</td>\n",
       "    </tr>\n",
       "    <tr>\n",
       "      <th>194875</th>\n",
       "      <td>22.749599</td>\n",
       "      <td>22.218702</td>\n",
       "    </tr>\n",
       "    <tr>\n",
       "      <th>76159</th>\n",
       "      <td>20.379999</td>\n",
       "      <td>20.379999</td>\n",
       "    </tr>\n",
       "    <tr>\n",
       "      <th>16986</th>\n",
       "      <td>41.398899</td>\n",
       "      <td>40.340989</td>\n",
       "    </tr>\n",
       "    <tr>\n",
       "      <th>114004</th>\n",
       "      <td>9.582800</td>\n",
       "      <td>9.586115</td>\n",
       "    </tr>\n",
       "    <tr>\n",
       "      <th>204908</th>\n",
       "      <td>30.609699</td>\n",
       "      <td>30.626476</td>\n",
       "    </tr>\n",
       "  </tbody>\n",
       "</table>\n",
       "</div>"
      ],
      "text/plain": [
       "           actual  predicted\n",
       "191673  23.678301  22.744944\n",
       "95794   19.082300  19.493599\n",
       "1970    32.129799  32.580163\n",
       "216999  15.619900  13.517795\n",
       "10144    6.848900   6.962422\n",
       "129738  10.450800  10.456717\n",
       "195255  53.007999  50.621339\n",
       "64785   38.275799  38.241691\n",
       "91055   10.972400  10.933690\n",
       "106506   4.199000   4.214913\n",
       "7491    39.055199  38.994646\n",
       "39311   21.505501  21.492775\n",
       "10247   27.714001  27.674200\n",
       "147937  18.737301  18.762181\n",
       "179150  36.979900  37.332494\n",
       "194875  22.749599  22.218702\n",
       "76159   20.379999  20.379999\n",
       "16986   41.398899  40.340989\n",
       "114004   9.582800   9.586115\n",
       "204908  30.609699  30.626476"
      ]
     },
     "execution_count": 46,
     "metadata": {},
     "output_type": "execute_result"
    }
   ],
   "source": [
    "# create predictions dataframe\n",
    "data = {\n",
    "        'actual' : y_test,\n",
    "        'predicted' : y_pred\n",
    "}\n",
    "predictions = pd.DataFrame(data)\n",
    "predictions.head(20)"
   ]
  },
  {
   "cell_type": "code",
   "execution_count": 47,
   "metadata": {},
   "outputs": [],
   "source": [
    "# save it to excel\n",
    "predictions.to_excel('regression-predictions.xlsx')"
   ]
  },
  {
   "cell_type": "code",
   "execution_count": 44,
   "metadata": {},
   "outputs": [
    {
     "data": {
      "text/plain": [
       "['my_model.pkl']"
      ]
     },
     "execution_count": 44,
     "metadata": {},
     "output_type": "execute_result"
    }
   ],
   "source": [
    "# pickle random forest model\n",
    "from sklearn.externals import joblib\n",
    "joblib.dump(best_model, \"my_model.pkl\")"
   ]
  },
  {
   "cell_type": "code",
   "execution_count": 42,
   "metadata": {},
   "outputs": [
    {
     "data": {
      "image/png": "[encoded data removed]",
      "text/plain": [
       "<matplotlib.figure.Figure at 0x10bbe6b38>"
      ]
     },
     "metadata": {},
     "output_type": "display_data"
    }
   ],
   "source": [
    "# visualize feature importances\n",
    "\n",
    "# Create a pd.Series of features importances\n",
    "importances = pd.Series(data=best_model.feature_importances_,\n",
    "                        index= X_train.columns)\n",
    "\n",
    "# Sort importances\n",
    "importances_sorted = importances.sort_values()\n",
    "\n",
    "# Draw a horizontal barplot of importances_sorted\n",
    "plt.figure(figsize=(10, 30))\n",
    "importances_sorted.plot(kind='barh', color='lightgreen')\n",
    "plt.title('Feature Importances')\n",
    "plt.savefig('feature_importance1021.png', dpi=1200)\n",
    "plt.show()"
   ]
  },
  {
   "cell_type": "markdown",
   "metadata": {},
   "source": [
    "Since the high R-squared is suspicious, I will re-run the model using different train-test splits, making smaller tree stubs, and will ask the client for new, unseen data."
   ]
  },
  {
   "cell_type": "code",
   "execution_count": 47,
   "metadata": {},
   "outputs": [
    {
     "name": "stdout",
     "output_type": "stream",
     "text": [
      "Fitting 5 folds for each of 10 candidates, totalling 50 fits\n"
     ]
    },
    {
     "name": "stderr",
     "output_type": "stream",
     "text": [
      "[Parallel(n_jobs=-1)]: Using backend LokyBackend with 4 concurrent workers.\n",
      "[Parallel(n_jobs=-1)]: Done  42 tasks      | elapsed: 35.7min\n",
      "[Parallel(n_jobs=-1)]: Done  50 out of  50 | elapsed: 37.0min finished\n"
     ]
    },
    {
     "name": "stdout",
     "output_type": "stream",
     "text": [
      "Tuned RandomForest R squared: 0.99656655147518\n",
      "Tuned RandomForest MSE: 3.0402126009877435\n"
     ]
    }
   ],
   "source": [
    "# split into test and train\n",
    "from sklearn.model_selection import train_test_split\n",
    "\n",
    "X_train1, X_test1, y_train1, y_test1 = train_test_split(X, y, test_size=0.2, random_state=43)\n",
    "\n",
    "# fine-tune with RandomizedSearchCV\n",
    "# Instantiate a random forests regressor 'rf'\n",
    "from sklearn.ensemble import RandomForestRegressor\n",
    "\n",
    "rf = RandomForestRegressor()\n",
    "\n",
    "# Define the dictionary 'params_rf'\n",
    "params_rf = {'n_estimators': [25, 100, 350],\n",
    "             'max_features': ['log2', 'auto', 'sqrt'],\n",
    "             'min_samples_leaf': [1, 2, 4]}\n",
    "\n",
    "# Import RandomizedSearchCV\n",
    "from sklearn.model_selection import RandomizedSearchCV\n",
    "\n",
    "# Instantiate grid_rf\n",
    "grid_rf = RandomizedSearchCV(estimator=rf,\n",
    "                       param_distributions=params_rf,\n",
    "                       scoring='neg_mean_squared_error',\n",
    "                       cv=5,\n",
    "                       verbose=1,\n",
    "                       n_jobs=-1)\n",
    "# Fit 'grid_rf' to the training set\n",
    "grid_rf.fit(X_train1, y_train1)\n",
    "    \n",
    "# Extract the best estimator\n",
    "best_model = grid_rf.best_estimator_\n",
    "\n",
    "# Predict on the test set and compute metrics\n",
    "y_pred1 = best_model.predict(X_test1)\n",
    "rf_r21 = best_model.score(X_test1, y_test1)\n",
    "rf_mse1 = mean_squared_error(y_test1, y_pred1)\n",
    "print(\"Tuned RandomForest R squared: {}\".format(rf_r21))\n",
    "print(\"Tuned RandomForest MSE: {}\".format(rf_mse1))"
   ]
  },
  {
   "cell_type": "code",
   "execution_count": 48,
   "metadata": {},
   "outputs": [
    {
     "name": "stdout",
     "output_type": "stream",
     "text": [
      "Fitting 5 folds for each of 10 candidates, totalling 50 fits\n"
     ]
    },
    {
     "name": "stderr",
     "output_type": "stream",
     "text": [
      "[Parallel(n_jobs=-1)]: Using backend LokyBackend with 4 concurrent workers.\n",
      "[Parallel(n_jobs=-1)]: Done  42 tasks      | elapsed: 20.7min\n",
      "[Parallel(n_jobs=-1)]: Done  50 out of  50 | elapsed: 22.8min finished\n"
     ]
    },
    {
     "name": "stdout",
     "output_type": "stream",
     "text": [
      "Tuned RandomForest R squared: 0.9911245151259674\n",
      "Tuned RandomForest MSE: 8.39707344560828\n"
     ]
    }
   ],
   "source": [
    "# split into test and train\n",
    "from sklearn.model_selection import train_test_split\n",
    "\n",
    "X_train2, X_test2, y_train2, y_test2 = train_test_split(X, y, test_size=0.2, random_state=44)\n",
    "\n",
    "# fine-tune with RandomizedSearchCV\n",
    "# Instantiate a random forests regressor 'rf'\n",
    "from sklearn.ensemble import RandomForestRegressor\n",
    "\n",
    "rf = RandomForestRegressor()\n",
    "\n",
    "# Define the dictionary 'params_rf'\n",
    "params_rf = {'n_estimators': [25, 100, 125],\n",
    "             'max_depth': [10, 20, 30],\n",
    "             'max_features': ['auto', 'sqrt'],\n",
    "             'min_samples_leaf': [2, 4]}\n",
    "\n",
    "# Import RandomizedSearchCV\n",
    "from sklearn.model_selection import RandomizedSearchCV\n",
    "\n",
    "# Instantiate grid_rf\n",
    "grid_rf = RandomizedSearchCV(estimator=rf,\n",
    "                       param_distributions=params_rf,\n",
    "                       scoring='neg_mean_squared_error',\n",
    "                       cv=5,\n",
    "                       verbose=1,\n",
    "                       n_jobs=-1)\n",
    "# Fit 'grid_rf' to the training set\n",
    "grid_rf.fit(X_train2, y_train2)\n",
    "    \n",
    "# Extract the best estimator\n",
    "best_model = grid_rf.best_estimator_\n",
    "\n",
    "# Predict on the test set and compute metrics\n",
    "y_pred2 = best_model.predict(X_test2)\n",
    "rf_r22 = best_model.score(X_test2, y_test2)\n",
    "rf_mse2 = mean_squared_error(y_test2, y_pred2)\n",
    "print(\"Tuned RandomForest R squared: {}\".format(rf_r22))\n",
    "print(\"Tuned RandomForest MSE: {}\".format(rf_mse2))"
   ]
  },
  {
   "cell_type": "code",
   "execution_count": 49,
   "metadata": {},
   "outputs": [
    {
     "data": {
      "text/plain": [
       "{'n_estimators': 25,\n",
       " 'min_samples_leaf': 2,\n",
       " 'max_features': 'auto',\n",
       " 'max_depth': 20}"
      ]
     },
     "execution_count": 49,
     "metadata": {},
     "output_type": "execute_result"
    }
   ],
   "source": [
    "# print best parameters\n",
    "grid_rf.best_params_"
   ]
  },
  {
   "cell_type": "code",
   "execution_count": null,
   "metadata": {},
   "outputs": [],
   "source": []
  }
 ],
 "metadata": {
  "kernelspec": {
   "display_name": "Python 3",
   "language": "python",
   "name": "python3"
  },
  "language_info": {
   "codemirror_mode": {
    "name": "ipython",
    "version": 3
   },
   "file_extension": ".py",
   "mimetype": "text/x-python",
   "name": "python",
   "nbconvert_exporter": "python",
   "pygments_lexer": "ipython3",
   "version": "3.7.0"
  }
 },
 "nbformat": 4,
 "nbformat_minor": 2
}
